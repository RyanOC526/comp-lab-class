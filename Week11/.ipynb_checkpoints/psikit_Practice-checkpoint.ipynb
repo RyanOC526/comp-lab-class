{
 "cells": [
  {
   "cell_type": "code",
   "execution_count": 3,
   "metadata": {},
   "outputs": [],
   "source": [
    "import numpy as np\n",
    "import matplotlib.pyplot as plt\n",
    "import os\n",
    "import pandas as pd\n",
    "\n",
    "from psikit import Psikit"
   ]
  },
  {
   "cell_type": "code",
   "execution_count": 4,
   "metadata": {},
   "outputs": [
    {
     "name": "stdout",
     "output_type": "stream",
     "text": [
      "SCF Energy:  -230.71227965561994\n",
      "HOMO:  -0.32848531279489696\n",
      "LUMO:  0.1456523242838159\n",
      "SCF Total Dipole Moment: 0.0\n"
     ]
    }
   ],
   "source": [
    "#Single Point Calculation\n",
    "\n",
    "pk=Psikit(debug=True,threads=1,memory=12)\n",
    "pk.read_from_smiles(\"c1ccccc1\")\n",
    "print(\"SCF Energy: \", pk.energy())\n",
    "print(\"HOMO: \", pk.HOMO)\n",
    "print(\"LUMO: \", pk.LUMO)\n",
    "x, y, z, total = pk.dipolemoment\n",
    "print(\"SCF Total Dipole Moment: {}\".format(total))\n",
    "\n",
    "#SCF Energy:  -230.71227965561994\n",
    "#HOMO:  -0.32848531279489696\n",
    "#LUMO:  0.1456523242838159\n",
    "#SCF Total Dipole Moment: 0.0"
   ]
  },
  {
   "cell_type": "code",
   "execution_count": 5,
   "metadata": {},
   "outputs": [
    {
     "name": "stdout",
     "output_type": "stream",
     "text": [
      "Optimizer: Optimization complete!\n",
      "Optimized SCF Energy:  -230.7135235421283\n"
     ]
    }
   ],
   "source": [
    "#Structure Optimization\n",
    "\n",
    "pk=Psikit(debug=True,threads=1,memory=12)\n",
    "pk.read_from_smiles(\"c1ccccc1\")\n",
    "print(\"Optimized SCF Energy: \", pk.optimize())\n",
    "\n",
    "#Optimizer: Optimization complete!\n",
    "#Optimized SCF Energy:  -230.7135235421283"
   ]
  },
  {
   "cell_type": "code",
   "execution_count": 4,
   "metadata": {},
   "outputs": [
    {
     "name": "stdout",
     "output_type": "stream",
     "text": [
      "\n",
      "  Memory set to  11.176 GiB by Python driver.\n",
      "  Threads set to 1 by Python driver.\n",
      "Optimizer: Optimization failed!\n",
      "Convergence error caught: Could not converge geometry optimization in 8 iterations.\n"
     ]
    },
    {
     "name": "stderr",
     "output_type": "stream",
     "text": [
      "TORS::compute_val: unable to compute torsion value\n"
     ]
    },
    {
     "name": "stdout",
     "output_type": "stream",
     "text": [
      "C ESP:-0.30591874187575752\tRESP:-0.29009095552341141\n",
      "C ESP:0.81601091542532322\tRESP:0.81601091542532311\n",
      "O ESP:-0.60795491898263343\tRESP:-0.60795491898263343\n",
      "O ESP:-0.66372504468971616\tRESP:-0.66372504468971605\n",
      "H ESP:0.10264160981706077\tRESP:0.097365681032945336\n",
      "H ESP:0.10264160981706077\tRESP:0.097365681032945336\n",
      "H ESP:0.10264160981706077\tRESP:0.097365681032945336\n",
      "H ESP:0.45366296067160172\tRESP:0.45366296067160172\n",
      "Optimizer: Optimization complete!\n"
     ]
    },
    {
     "data": {
      "text/plain": [
       "array([-0.41267745,  0.71990781, -0.55396154, -0.58971625,  0.16218755,\n",
       "        0.15675883,  0.1567756 ,  0.36072544])"
      ]
     },
     "execution_count": 4,
     "metadata": {},
     "output_type": "execute_result"
    }
   ],
   "source": [
    "#Calculate RESP Charge\n",
    "# REF http://ambermd.org/tutorials/advanced/tutorial1/files/resp_paper_jacs.pdf\n",
    "pk=Psikit(debug=True,threads=1,memory=12)\n",
    "pk.read_from_smiles(\"CC(=O)O\")\n",
    "pk.optimize()\n",
    "# Optimizer: Optimization complete!\n",
    "# -227.82180859253418\n",
    "pk.calc_resp_charges()\n",
    "# array([-0.32506898,  0.83672649, -0.61924915, -0.66135715,  0.10450057,\n",
    "#    0.10478188,  0.10780051,  0.45186584])\n",
    "\n",
    "for atom in pk.mol.GetAtoms(): \n",
    "    print(atom.GetSymbol(), \"ESP:{}\\tRESP:{}\".format(atom.GetProp(\"EP\"), atom.GetProp(\"RESP\"))) \n",
    "\n",
    "#C ESP:-0.30591874187575752\tRESP:-0.29009095552341141\n",
    "#C ESP:0.81601091542532322\tRESP:0.81601091542532311\n",
    "#O ESP:-0.60795491898263343\tRESP:-0.60795491898263343\n",
    "#O ESP:-0.66372504468971616\tRESP:-0.66372504468971605\n",
    "#H ESP:0.10264160981706077\tRESP:0.097365681032945336\n",
    "#H ESP:0.10264160981706077\tRESP:0.097365681032945336\n",
    "#H ESP:0.10264160981706077\tRESP:0.097365681032945336\n",
    "#H ESP:0.45366296067160172\tRESP:0.45366296067160172\n",
    "#Optimizer: Optimization complete!\n",
    "\n",
    "### Compute Mulliken charges and Lowdin charges\n",
    "\n",
    "pk=Psikit(debug=True,threads=1,memory=12)\n",
    "pk.read_from_smiles(\"CC(=O)O\")\n",
    "pk.optimize() # or pk.energy()\n",
    "\n",
    "pk.calc_mulliken_charges()\n",
    "# array([-0.41267745,  0.71990781, -0.55396154, -0.58971625,  0.16218755,\n",
    "#      0.15675883,  0.1567756 ,  0.36072544])\n",
    "\n"
   ]
  },
  {
   "cell_type": "code",
   "execution_count": 5,
   "metadata": {},
   "outputs": [
    {
     "data": {
      "text/plain": [
       "array([-0.29659583,  0.33271614, -0.34977228, -0.29145304,  0.11867024,\n",
       "        0.12417733,  0.12640298,  0.23585446])"
      ]
     },
     "execution_count": 5,
     "metadata": {},
     "output_type": "execute_result"
    }
   ],
   "source": [
    "pk.calc_lowdin_charges()\n",
    "#array([-0.29659583,  0.33271614, -0.34977228, -0.29145304,  0.11867024,\n",
    "#       0.12417733,  0.12640298,  0.23585446])"
   ]
  },
  {
   "cell_type": "code",
   "execution_count": 8,
   "metadata": {},
   "outputs": [
    {
     "name": "stdout",
     "output_type": "stream",
     "text": [
      "Optimizer: Optimization complete!\n"
     ]
    },
    {
     "data": {
      "text/plain": [
       "-227.89204563133902"
      ]
     },
     "execution_count": 8,
     "metadata": {},
     "output_type": "execute_result"
    }
   ],
   "source": [
    "#Rendering Molecular Orbitals\n",
    "\n",
    "pk=Psikit(debug=True,threads=1,memory=12)\n",
    "pk.read_from_smiles(\"c1ccccc1\")\n",
    "pk.optimize(basis_sets=\"scf/sto-3g\")\n"
   ]
  },
  {
   "cell_type": "code",
   "execution_count": 9,
   "metadata": {},
   "outputs": [
    {
     "ename": "NameError",
     "evalue": "name 'your_mol_object' is not defined",
     "output_type": "error",
     "traceback": [
      "\u001b[0;31m---------------------------------------------------------------------------\u001b[0m",
      "\u001b[0;31mNameError\u001b[0m                                 Traceback (most recent call last)",
      "Cell \u001b[0;32mIn [9], line 4\u001b[0m\n\u001b[1;32m      1\u001b[0m \u001b[38;5;66;03m#Adding RDkit mol object to Psikit object directly\u001b[39;00m\n\u001b[1;32m      3\u001b[0m pk\u001b[38;5;241m=\u001b[39mPsikit(debug\u001b[38;5;241m=\u001b[39m\u001b[38;5;28;01mTrue\u001b[39;00m,threads\u001b[38;5;241m=\u001b[39m\u001b[38;5;241m1\u001b[39m,memory\u001b[38;5;241m=\u001b[39m\u001b[38;5;241m12\u001b[39m)\n\u001b[0;32m----> 4\u001b[0m pk\u001b[38;5;241m.\u001b[39mmol \u001b[38;5;241m=\u001b[39m \u001b[43myour_mol_object\u001b[49m\n",
      "\u001b[0;31mNameError\u001b[0m: name 'your_mol_object' is not defined"
     ]
    }
   ],
   "source": [
    "#Adding RDkit mol object to Psikit object directly\n",
    "\n",
    "pk=Psikit(debug=True,threads=1,memory=12)\n",
    "pk.mol = your_mol_object"
   ]
  },
  {
   "cell_type": "code",
   "execution_count": null,
   "metadata": {},
   "outputs": [],
   "source": []
  }
 ],
 "metadata": {
  "kernelspec": {
   "display_name": "lab_env",
   "language": "python",
   "name": "lab_env"
  },
  "language_info": {
   "codemirror_mode": {
    "name": "ipython",
    "version": 3
   },
   "file_extension": ".py",
   "mimetype": "text/x-python",
   "name": "python",
   "nbconvert_exporter": "python",
   "pygments_lexer": "ipython3",
   "version": "3.9.12"
  }
 },
 "nbformat": 4,
 "nbformat_minor": 4
}

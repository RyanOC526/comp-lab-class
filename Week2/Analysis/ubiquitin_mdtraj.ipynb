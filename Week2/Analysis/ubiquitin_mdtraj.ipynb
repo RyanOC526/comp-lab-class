{
 "cells": [
  {
   "cell_type": "code",
   "execution_count": 2,
   "metadata": {},
   "outputs": [],
   "source": [
    "import numpy as np\n",
    "import mdtraj as md\n",
    "import os"
   ]
  },
  {
   "cell_type": "code",
   "execution_count": 3,
   "metadata": {},
   "outputs": [],
   "source": [
    "#Load Trajectory for UBQ\n",
    "os.chdir('/home/rmo302/compclass/comp-lab-class/Week2/Data')\n",
    "traj = md.load(\"1UBQ_processed.pdb\")\n"
   ]
  },
  {
   "cell_type": "code",
   "execution_count": 5,
   "metadata": {},
   "outputs": [
    {
     "name": "stdout",
     "output_type": "stream",
     "text": [
      "57\n"
     ]
    }
   ],
   "source": [
    "#calculate Hydrogen Bonds\n",
    "hbond = md.baker_hubbard(traj, freq=0.1, exclude_water=True, periodic=True, sidechain_only=False)\n",
    "print (len(hbond))"
   ]
  },
  {
   "cell_type": "code",
   "execution_count": 7,
   "metadata": {},
   "outputs": [
    {
     "name": "stdout",
     "output_type": "stream",
     "text": [
      "18\n"
     ]
    }
   ],
   "source": [
    "#calculate Helical Amino Acids\n",
    "ss_aminoacids = md.compute_dssp(traj, simplified=True)\n",
    "\n",
    "size = np.size(ss_aminoacids)\n",
    "i = 0\n",
    "hel_aminoacids = 0\n",
    "\n",
    "while i < size:\n",
    "    if ss_aminoacids[0][i] == 'H':\n",
    "        hel_aminoacids += 1\n",
    "        i += 1\n",
    "    else:\n",
    "        i += 1\n",
    "\n",
    "print (hel_aminoacids)"
   ]
  }
 ],
 "metadata": {
  "kernelspec": {
   "display_name": "lab_env",
   "language": "python",
   "name": "lab_env"
  },
  "language_info": {
   "codemirror_mode": {
    "name": "ipython",
    "version": 3
   },
   "file_extension": ".py",
   "mimetype": "text/x-python",
   "name": "python",
   "nbconvert_exporter": "python",
   "pygments_lexer": "ipython3",
   "version": "3.9.12"
  }
 },
 "nbformat": 4,
 "nbformat_minor": 4
}

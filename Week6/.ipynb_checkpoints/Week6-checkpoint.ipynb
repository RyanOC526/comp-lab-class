{
 "cells": [
  {
   "cell_type": "code",
   "execution_count": 1,
   "metadata": {},
   "outputs": [],
   "source": [
    "import numpy as np\n",
    "import mdtraj as md\n",
    "import matplotlib.pyplot as plt\n",
    "import os"
   ]
  },
  {
   "cell_type": "code",
   "execution_count": 15,
   "metadata": {},
   "outputs": [
    {
     "name": "stdout",
     "output_type": "stream",
     "text": [
      "-1.257768\n"
     ]
    }
   ],
   "source": [
    "# Read. COLVAR file for State A\n",
    "\n",
    "os.chdir('/home/rmo302/compclass/comp-lab-class/Week6/masterclass-21-4/Exercise-1/StateA')\n",
    "\n",
    "colvar = np.loadtxt(\"COLVAR\")\n",
    "\n",
    "print(colvar)\n"
   ]
  },
  {
   "cell_type": "code",
   "execution_count": 8,
   "metadata": {},
   "outputs": [
    {
     "name": "stdout",
     "output_type": "stream",
     "text": [
      "(array([[ 4,  6,  8, 14]]), array([[-1.2577689],\n",
      "       [-2.7149851],\n",
      "       [-2.3329206],\n",
      "       ...,\n",
      "       [-2.5584257],\n",
      "       [-2.4034297],\n",
      "       [-2.6787438]], dtype=float32))\n"
     ]
    }
   ],
   "source": [
    "#compute phi and psi for State A\n",
    "\n",
    "traj = md.load_xtc(\"traj_comp.xtc\", top = \"confout.gro\")\n",
    "\n",
    "phi = md.compute_phi(traj, periodic = True, opt = True)\n",
    "psi = md.compute_psi(traj, periodic = True, opt = True)\n",
    "\n",
    "print (phi)"
   ]
  },
  {
   "cell_type": "code",
   "execution_count": null,
   "metadata": {},
   "outputs": [],
   "source": []
  }
 ],
 "metadata": {
  "kernelspec": {
   "display_name": "lab_env",
   "language": "python",
   "name": "lab_env"
  },
  "language_info": {
   "codemirror_mode": {
    "name": "ipython",
    "version": 3
   },
   "file_extension": ".py",
   "mimetype": "text/x-python",
   "name": "python",
   "nbconvert_exporter": "python",
   "pygments_lexer": "ipython3",
   "version": "3.9.12"
  }
 },
 "nbformat": 4,
 "nbformat_minor": 4
}
